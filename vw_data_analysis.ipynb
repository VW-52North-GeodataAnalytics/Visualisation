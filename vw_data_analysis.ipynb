{
 "cells": [
  {
   "cell_type": "markdown",
   "id": "408b10ae",
   "metadata": {},
   "source": [
    "Import libraries and data"
   ]
  },
  {
   "cell_type": "code",
   "execution_count": 5,
   "id": "b88669e2-73c1-4a30-944e-dba25bf6173f",
   "metadata": {
    "tags": []
   },
   "outputs": [],
   "source": [
    "# jupyter lab --notebook-dir=C:/ --preferred-dir C:/Users/markuskonkol/Documents/GitHub/vw/analysis/vw/visualisation\n",
    "# Interactive figure\n",
    "#   Data: Tags\n",
    "#       Parameter: parameter name, initial value\n",
    "#           Widget: type (slider: min-value, max-value, step, caption; Dropdown: options)\n",
    "\n",
    "import yaml\n",
    "%matplotlib inline\n",
    "import matplotlib.pyplot as plt\n",
    "import ipywidgets as widgets\n",
    "from ipywidgets import interact \n",
    "import plotly.graph_objs as go\n",
    "\n",
    "with open('hamburg.yaml', 'r') as stream:\n",
    "    hamburg = yaml.safe_load(stream)\n",
    "with open('munich.yaml', 'r') as stream:\n",
    "    munich = yaml.safe_load(stream)\n",
    "with open('austin.yaml', 'r') as stream:\n",
    "    austin = yaml.safe_load(stream)\n",
    "    \n",
    "data = austin\n",
    "attributes = ['length', 'count']"
   ]
  },
  {
   "cell_type": "markdown",
   "id": "84834902",
   "metadata": {},
   "source": [
    "Plot function"
   ]
  },
  {
   "cell_type": "code",
   "execution_count": 6,
   "id": "65f2c1a9",
   "metadata": {
    "tags": []
   },
   "outputs": [],
   "source": [
    "def plotFig(labels, values, attribute, what):\n",
    "    if len(labels) > 0:\n",
    "        fig, ax = plt.subplots()\n",
    "        ax.bar(labels, values)\n",
    "        ax.tick_params(axis='x', rotation=55)\n",
    "        ax.set_title(attribute + ' per ' + what)\n",
    "        plt.show()\n",
    "        plotlyFig = go.FigureWidget(\n",
    "            data=[go.Bar(y=values, x=labels, hoverinfo=\"x, y\")])\n",
    "        plotlyFig.layout.title = attribute + ' per ' + what        \n",
    "        plotlyFig.show()\n",
    "    else:\n",
    "        print('Sorry, no data to show. Choose another category or attribute...')"
   ]
  },
  {
   "cell_type": "markdown",
   "id": "b0397ddd",
   "metadata": {},
   "source": [
    "Plot Lanetypes"
   ]
  },
  {
   "cell_type": "code",
   "execution_count": 7,
   "id": "2c79bd8e-a74d-44b8-a4c5-ddfcffb3551e",
   "metadata": {
    "tags": []
   },
   "outputs": [
    {
     "data": {
      "application/vnd.jupyter.widget-view+json": {
       "model_id": "6c3042c8f7254366bf71ebe8d9930069",
       "version_major": 2,
       "version_minor": 0
      },
      "text/plain": [
       "interactive(children=(Dropdown(description='Categories', options=('go_straight', 'straight_left_turn', 'straig…"
      ]
     },
     "metadata": {},
     "output_type": "display_data"
    },
    {
     "data": {
      "text/plain": [
       "<function __main__.plotLanetypes(cat, attr, sli)>"
      ]
     },
     "execution_count": 7,
     "metadata": {},
     "output_type": "execute_result"
    }
   ],
   "source": [
    "laneTypes = data['drivable_area']['lane_specification']['lane_type']\n",
    "\n",
    "categories = []\n",
    "for laneType in laneTypes:\n",
    "    categories.append(laneType)\n",
    "\n",
    "def plotLanetypes(cat, attr, sli):\n",
    "    labels = []\n",
    "    values = []\n",
    "    for item in laneTypes[cat]:\n",
    "        if laneTypes[cat][item] != None and laneTypes[cat][item][attr] != 0.0 and laneTypes[cat][item][attr] > sli:\n",
    "            if attr == 'length':\n",
    "                unit = 'm'\n",
    "            if attr == 'count':\n",
    "                unit = ''\n",
    "            labels.append(item)\n",
    "            values.append(laneTypes[cat][item][attr])\n",
    "    plotFig(labels, values, attr, 'Lanetype')\n",
    "    \n",
    "interact(plotLanetypes, cat = widgets.Dropdown(options=categories, description='Categories'), \n",
    "                        attr = widgets.Dropdown(options=attributes, description='Attributes'), \n",
    "                        sli = widgets.IntSlider(min=0, max=10000, step=1000, value=0, description=\"Higher than...\", layout={'width':'1000px'})\n",
    "                    )"
   ]
  },
  {
   "cell_type": "markdown",
   "id": "8813bd17",
   "metadata": {},
   "source": [
    "Plot Roadtypes"
   ]
  },
  {
   "cell_type": "code",
   "execution_count": 8,
   "id": "fc311181",
   "metadata": {
    "tags": []
   },
   "outputs": [
    {
     "data": {
      "application/vnd.jupyter.widget-view+json": {
       "model_id": "13865652572d4c6396a8a9be120dea30",
       "version_major": 2,
       "version_minor": 0
      },
      "text/plain": [
       "interactive(children=(Dropdown(description='Attributes', options=('length', 'count'), value='length'), IntSlid…"
      ]
     },
     "metadata": {},
     "output_type": "display_data"
    },
    {
     "data": {
      "text/plain": [
       "<function __main__.plotRoadtypes(attr, sli)>"
      ]
     },
     "execution_count": 8,
     "metadata": {},
     "output_type": "execute_result"
    }
   ],
   "source": [
    "roadTypes = data['drivable_area']['road_type']\n",
    "\n",
    "def plotRoadtypes(attr, sli):\n",
    "    labels = []\n",
    "    values = []\n",
    "    for item in roadTypes:\n",
    "        if roadTypes[item] != None and roadTypes[item][attr] != 0.0 and roadTypes[item][attr] > sli:\n",
    "            labels.append(item)\n",
    "            values.append(roadTypes[item][attr])\n",
    "    plotFig(labels, values, attr, 'Roadtype')\n",
    "\n",
    "interact(plotRoadtypes, attr = widgets.Dropdown(options=attributes, description='Attributes'),\n",
    "                        sli = widgets.IntSlider(min=0, max=100000, step=10000, value=0, description='Higher than...', layout={'width': '1000px'})\n",
    "                        )\n"
   ]
  },
  {
   "cell_type": "code",
   "execution_count": null,
   "id": "9b34d094-86d1-4ea2-8eaa-55058b1050b3",
   "metadata": {},
   "outputs": [],
   "source": []
  }
 ],
 "metadata": {
  "kernelspec": {
   "display_name": "Python 3 (ipykernel)",
   "language": "python",
   "name": "python3"
  },
  "language_info": {
   "codemirror_mode": {
    "name": "ipython",
    "version": 3
   },
   "file_extension": ".py",
   "mimetype": "text/x-python",
   "name": "python",
   "nbconvert_exporter": "python",
   "pygments_lexer": "ipython3",
   "version": "3.10.7 (tags/v3.10.7:6cc6b13, Sep  5 2022, 14:08:36) [MSC v.1933 64 bit (AMD64)]"
  },
  "vscode": {
   "interpreter": {
    "hash": "748ccaf1d27c1a656a096c50979a258ac582f91e4452e497b9263ec5d79620e3"
   }
  }
 },
 "nbformat": 4,
 "nbformat_minor": 5
}
